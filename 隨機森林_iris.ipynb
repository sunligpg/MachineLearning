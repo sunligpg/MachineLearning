{
  "nbformat": 4,
  "nbformat_minor": 0,
  "metadata": {
    "colab": {
      "provenance": [],
      "authorship_tag": "ABX9TyOhSJFxehzhrgz8muZf16WU",
      "include_colab_link": true
    },
    "kernelspec": {
      "name": "python3",
      "display_name": "Python 3"
    },
    "language_info": {
      "name": "python"
    }
  },
  "cells": [
    {
      "cell_type": "markdown",
      "metadata": {
        "id": "view-in-github",
        "colab_type": "text"
      },
      "source": [
        "<a href=\"https://colab.research.google.com/github/sunligpg/MachineLearning/blob/main/%E9%9A%A8%E6%A9%9F%E6%A3%AE%E6%9E%97_iris.ipynb\" target=\"_parent\"><img src=\"https://colab.research.google.com/assets/colab-badge.svg\" alt=\"Open In Colab\"/></a>"
      ]
    },
    {
      "cell_type": "code",
      "execution_count": null,
      "metadata": {
        "id": "WJP-8Pf63zpL",
        "colab": {
          "base_uri": "https://localhost:8080/"
        },
        "outputId": "4bf03680-602b-489a-ecc4-d120e7a3b75e"
      },
      "outputs": [
        {
          "output_type": "stream",
          "name": "stdout",
          "text": [
            "訓練資料正確率: 1.0\n",
            "測試資料正確率: 0.9333333333333333\n",
            "標準答案: [2 0 2 0 1 1 2 0 1 1 2 1 0 1 2 0 0 0 1 0 2 0 0 1 0 0 2 2 2 0 0 2 2 0 2 2 1\n",
            " 0 0 2 1 1 2 1 2]\n",
            "預測答案: [2 0 2 0 1 1 2 0 1 1 2 1 0 1 2 0 0 0 2 0 2 0 0 1 0 0 1 2 2 0 0 2 2 0 2 2 1\n",
            " 0 0 2 1 1 1 1 2]\n"
          ]
        }
      ],
      "source": [
        "# 匯入所需模組\n",
        "from sklearn.ensemble import RandomForestClassifier  # 隨機森林分類器\n",
        "from sklearn.datasets import load_iris  # 鳶尾花資料集\n",
        "from sklearn.model_selection import train_test_split\n",
        "\n",
        "# 讀入鳶尾花資料集\n",
        "iris = load_iris()\n",
        "iris_data = iris.data\n",
        "iris_label = iris.target\n",
        "\n",
        "# 切分訓練與測試資料，test_size=0.3 表示 30% 為測試資料，其餘為訓練資料\n",
        "train_data, test_data, train_label, test_label = train_test_split(\n",
        "    iris_data, iris_label, test_size=0.3\n",
        ")\n",
        "\n",
        "# n_estimators=30：建立30棵決策樹\n",
        "# max_depth=4：每棵樹的最大深度為4，避免過度擬合\n",
        "clf = RandomForestClassifier(n_estimators=30, max_depth=4)\n",
        "\n",
        "iris_clf = clf.fit(train_data, train_label)\n",
        "print(\"訓練資料正確率:\", clf.score(train_data, train_label))\n",
        "print(\"測試資料正確率:\", clf.score(test_data, test_label))\n",
        "predict = clf.predict(test_data)\n",
        "print(\"標準答案:\", test_label)\n",
        "print(\"預測答案:\", predict)\n"
      ]
    }
  ]
}