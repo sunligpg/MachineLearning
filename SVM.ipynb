{
  "nbformat": 4,
  "nbformat_minor": 0,
  "metadata": {
    "colab": {
      "provenance": [],
      "authorship_tag": "ABX9TyPvgwuRcAKcnOyWNcPt9GUq",
      "include_colab_link": true
    },
    "kernelspec": {
      "name": "python3",
      "display_name": "Python 3"
    },
    "language_info": {
      "name": "python"
    }
  },
  "cells": [
    {
      "cell_type": "markdown",
      "metadata": {
        "id": "view-in-github",
        "colab_type": "text"
      },
      "source": [
        "<a href=\"https://colab.research.google.com/github/sunligpg/MachineLearning/blob/main/SVM.ipynb\" target=\"_parent\"><img src=\"https://colab.research.google.com/assets/colab-badge.svg\" alt=\"Open In Colab\"/></a>"
      ]
    },
    {
      "cell_type": "code",
      "execution_count": null,
      "metadata": {
        "colab": {
          "base_uri": "https://localhost:8080/"
        },
        "id": "GQVa9Nb4sf0V",
        "outputId": "681178a5-aa1a-4fd9-ddf4-5573455f7ccb"
      },
      "outputs": [
        {
          "output_type": "stream",
          "name": "stdout",
          "text": [
            "1.0\n",
            "0.9777777777777777\n"
          ]
        }
      ],
      "source": [
        "from sklearn import datasets\n",
        "from sklearn.model_selection import train_test_split\n",
        "from sklearn import svm\n",
        "iris = datasets.load_iris()\n",
        "train_data, test_data, train_target, test_target = train_test_split(iris.data, iris.target, test_size = 0.3,random_state=0)\n",
        "clf = svm.SVC(kernel='poly' ,gamma='auto',C=100)\n",
        "clf.fit(train_data,train_target)\n",
        "print(clf.score(train_data, train_target))\n",
        "print(clf.score(test_data,test_target))"
      ]
    }
  ]
}