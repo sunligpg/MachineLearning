{
  "nbformat": 4,
  "nbformat_minor": 0,
  "metadata": {
    "colab": {
      "provenance": [],
      "authorship_tag": "ABX9TyPdhz4v9u/DDTYAoTvL5HPJ",
      "include_colab_link": true
    },
    "kernelspec": {
      "name": "python3",
      "display_name": "Python 3"
    },
    "language_info": {
      "name": "python"
    }
  },
  "cells": [
    {
      "cell_type": "markdown",
      "metadata": {
        "id": "view-in-github",
        "colab_type": "text"
      },
      "source": [
        "<a href=\"https://colab.research.google.com/github/sunligpg/MachineLearning/blob/main/Bayes.ipynb\" target=\"_parent\"><img src=\"https://colab.research.google.com/assets/colab-badge.svg\" alt=\"Open In Colab\"/></a>"
      ]
    },
    {
      "cell_type": "code",
      "execution_count": 13,
      "metadata": {
        "colab": {
          "base_uri": "https://localhost:8080/"
        },
        "id": "EfZPyJC-fIeL",
        "outputId": "78bb5739-e447-4a06-ba0f-bfd0d9927db2"
      },
      "outputs": [
        {
          "output_type": "stream",
          "name": "stdout",
          "text": [
            "0.9428571428571428\n",
            "1.0\n"
          ]
        }
      ],
      "source": [
        "from sklearn import datasets\n",
        "from sklearn.model_selection import train_test_split\n",
        "from sklearn.naive_bayes import GaussianNB\n",
        "iris = datasets.load_iris()\n",
        "train_data, test_data, train_target, test_target = train_test_split(iris.data, iris.target, test_size = 0.3,random_state=0)\n",
        "clf = GaussianNB()\n",
        "clf.fit(train_data,train_target)\n",
        "print(clf.score(train_data, train_target))\n",
        "print(clf.score(test_data,test_target))\n"
      ]
    }
  ]
}