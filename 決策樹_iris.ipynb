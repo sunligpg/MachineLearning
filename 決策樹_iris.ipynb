{
  "nbformat": 4,
  "nbformat_minor": 0,
  "metadata": {
    "colab": {
      "provenance": [],
      "authorship_tag": "ABX9TyM3vJBg141P/ggL2U7lVsYz",
      "include_colab_link": true
    },
    "kernelspec": {
      "name": "python3",
      "display_name": "Python 3"
    },
    "language_info": {
      "name": "python"
    }
  },
  "cells": [
    {
      "cell_type": "markdown",
      "metadata": {
        "id": "view-in-github",
        "colab_type": "text"
      },
      "source": [
        "<a href=\"https://colab.research.google.com/github/sunligpg/MachineLearning/blob/main/%E6%B1%BA%E7%AD%96%E6%A8%B9_iris.ipynb\" target=\"_parent\"><img src=\"https://colab.research.google.com/assets/colab-badge.svg\" alt=\"Open In Colab\"/></a>"
      ]
    },
    {
      "cell_type": "code",
      "execution_count": 1,
      "metadata": {
        "colab": {
          "base_uri": "https://localhost:8080/"
        },
        "id": "ukeOyybMFkfX",
        "outputId": "8479dc68-5f4f-43ce-867e-352dfe88c07c"
      },
      "outputs": [
        {
          "output_type": "stream",
          "name": "stdout",
          "text": [
            "訓練資料正確率: 1.0\n",
            "測試資料正確率: 0.9777777777777777\n",
            "標準答案: [2 2 0 2 1 1 1 2 0 0 2 1 1 0 2 1 1 0 0 0 2 0 1 1 2 1 1 0 1 1 0 2 1 0 2 2 0\n",
            " 0 2 1 1 1 0 0 1]\n",
            "預測答案: [2 2 0 2 2 1 1 2 0 0 2 1 1 0 2 1 1 0 0 0 2 0 1 1 2 1 1 0 1 1 0 2 1 0 2 2 0\n",
            " 0 2 1 1 1 0 0 1]\n"
          ]
        }
      ],
      "source": [
        "# 匯入所需模組\n",
        "from sklearn import tree  # 匯入決策樹分類器\n",
        "from sklearn.datasets import load_iris  # 匯入鳶尾花資料集\n",
        "from sklearn.model_selection import train_test_split  # 匯入切分資料的工具\n",
        "\n",
        "# 讀入鳶尾花資料\n",
        "iris = load_iris()  # 載入鳶尾花資料集\n",
        "iris_data = iris.data  # 取得特徵資料（花萼長度、花萼寬度、花瓣長度、花瓣寬度）\n",
        "iris_label = iris.target  # 取得標籤資料（花的種類）\n",
        "\n",
        "# 切分訓練與測試資料，test_size=0.3 表示 30% 資料作為測試資料\n",
        "train_data, test_data, train_label, test_label = train_test_split(\n",
        "    iris_data, iris_label, test_size=0.3\n",
        ")\n",
        "\n",
        "# 建立分類器（決策樹）\n",
        "clf = tree.DecisionTreeClassifier()  # 初始化決策樹分類器\n",
        "iris_clf = clf.fit(train_data, train_label)  # 使用訓練資料訓練模型\n",
        "\n",
        "# 評估模型準確率\n",
        "print(\"訓練資料正確率:\", clf.score(train_data, train_label))  # 顯示訓練資料預測正確率\n",
        "print(\"測試資料正確率:\", clf.score(test_data, test_label))  # 顯示測試資料預測正確率\n",
        "\n",
        "# 使用測試資料進行預測\n",
        "predict = clf.predict(test_data)  # 對測試資料進行分類預測\n",
        "print(\"標準答案:\", test_label)  # 顯示實際的標籤\n",
        "print(\"預測答案:\", predict)  # 顯示模型預測的結果\n"
      ]
    }
  ]
}